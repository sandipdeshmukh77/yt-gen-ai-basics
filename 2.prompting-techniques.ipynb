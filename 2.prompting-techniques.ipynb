{
 "cells": [
  {
   "cell_type": "code",
   "execution_count": null,
   "id": "9ba606b1",
   "metadata": {},
   "outputs": [],
   "source": [
    "%pip install openai"
   ]
  },
  {
   "cell_type": "code",
   "execution_count": null,
   "id": "9212ff30",
   "metadata": {},
   "outputs": [],
   "source": [
    "%pip install dotenv"
   ]
  },
  {
   "cell_type": "code",
   "execution_count": 1,
   "id": "05ed6cee",
   "metadata": {},
   "outputs": [
    {
     "data": {
      "text/plain": [
       "True"
      ]
     },
     "execution_count": 1,
     "metadata": {},
     "output_type": "execute_result"
    }
   ],
   "source": [
    "import os\n",
    "from dotenv import load_dotenv\n",
    "load_dotenv()  # take environment variables from .env."
   ]
  },
  {
   "cell_type": "code",
   "execution_count": 4,
   "id": "a256f984",
   "metadata": {},
   "outputs": [],
   "source": [
    "from openai import OpenAI\n",
    "# Set up the OpenAI client with Google API key \n",
    "# note : you can use openai sdk with google key \n",
    "client = OpenAI(\n",
    "        api_key=os.getenv('GEMINI_API_KEY'),\n",
    "        base_url=\"https://generativelanguage.googleapis.com/v1beta/openai/\"\n",
    ")"
   ]
  },
  {
   "cell_type": "code",
   "execution_count": 5,
   "id": "2b9b50e3",
   "metadata": {},
   "outputs": [
    {
     "name": "stdout",
     "output_type": "stream",
     "text": [
      "The capital of India is **New Delhi**.\n",
      "\n"
     ]
    }
   ],
   "source": [
    "def call_llm(query):\n",
    "    response = client.chat.completions.create(\n",
    "                model=\"gemini-2.0-flash\",\n",
    "                messages=query\n",
    "            )\n",
    "    return response.choices[0].message.content\n",
    "print(call_llm([{\"role\": \"user\", \"content\": \"what is the capital of India?\"}]))"
   ]
  },
  {
   "cell_type": "markdown",
   "id": "471c92d6",
   "metadata": {},
   "source": [
    "### 1. Zero-shot Prompting\n",
    "In zero-shot prompting, you provide only the task description—no examples."
   ]
  },
  {
   "cell_type": "code",
   "execution_count": 6,
   "id": "7f7be97d",
   "metadata": {},
   "outputs": [
    {
     "name": "stdout",
     "output_type": "stream",
     "text": [
      "There are several ways to translate \"How are you?\" into Hindi, depending on the level of formality and who you're speaking to:\n",
      "\n",
      "*   **आप कैसे हैं? (Aap kaise hain?)** - This is the most common and polite way to say \"How are you?\" and is suitable for most situations, especially when speaking to someone older, a stranger, or someone you want to show respect to.\n",
      "\n",
      "*   **क्या हाल है? (Kya haal hai?)** - This is a more informal way to ask \"How are you?\" and is suitable for friends and family.\n",
      "\n",
      "*   **कैसे हो? (Kaise ho?)** - This is an informal way to ask \"How are you?\" used with friends, family, and people younger than you (or of equal status and with whom you have a casual relationship). (Masculine)\n",
      "\n",
      "*   **कैसी हो? (Kaisi ho?)** - This is the same as above, but used when speaking to a female friend/family member.\n",
      "\n",
      "So, depending on the context, any of these could be the best translation.  **आप कैसे हैं? (Aap kaise hain?)** is the safest bet if you're unsure.\n",
      "\n"
     ]
    }
   ],
   "source": [
    "from openai import OpenAI\n",
    "\n",
    "def zero_shot_prompting(query):\n",
    "    prompt = \"Translate the following English sentence to Hindi:\\n\" + query\n",
    "    response = call_llm([{\"role\": \"user\", \"content\": prompt}])\n",
    "    return response\n",
    "\n",
    "print(zero_shot_prompting(\"How are you?\"))"
   ]
  },
  {
   "cell_type": "markdown",
   "id": "5ee9697f",
   "metadata": {},
   "source": [
    "### 2. Few-shot Prompting\n",
    "In this prompting technique you provide a few examples in the prompt to guide the model."
   ]
  },
  {
   "cell_type": "code",
   "execution_count": 7,
   "id": "d3a414ff",
   "metadata": {},
   "outputs": [
    {
     "name": "stdout",
     "output_type": "stream",
     "text": [
      "Okay, here's the translation of \"nice to meet you\" into Hindi, with a few options depending on context and formality:\n",
      "\n",
      "*   **Formal:** आपसे मिलकर खुशी हुई। (Aap se milkar khushi hui.) - This translates to \"I am happy to meet you.\"\n",
      "*   **Informal:** आपसे मिलकर अच्छा लगा। (Aap se milkar achha laga.) - This translates to \"It was good to meet you.\"\n",
      "*   **Very informal:** मिलकर अच्छा लगा। (Milkar achha laga.) - (Good to meet you) - Use only with close friends.\n",
      "\n",
      "So, the best answer in Hindi is **आपसे मिलकर खुशी हुई।** or **आपसे मिलकर अच्छा लगा।**\n",
      "\n"
     ]
    }
   ],
   "source": [
    "def few_shot_prompting(query):\n",
    "    prompt = \"\"\"\n",
    "                Translate the following English sentences to Hindi:\n",
    "                e.g\n",
    "                - Hello -> Namaste\n",
    "                - Good night -> Shubh Ratri\n",
    "                - Thank you -> Dhanyawad\n",
    "                - {query} -> \"answer in Hindi\"\n",
    "            \"\"\"    \n",
    "    final_prompt = prompt.format(query=query)\n",
    "    response = call_llm([{\"role\": \"user\", \"content\": final_prompt}])\n",
    "    return response\n",
    "\n",
    "print(few_shot_prompting(\"nice to meet you\")) # Aap se milkar khushi hui , and more variation as well"
   ]
  },
  {
   "cell_type": "markdown",
   "id": "7b8001c9",
   "metadata": {},
   "source": [
    "### 3. Chain-of-Thought (CoT) Prompting\n",
    "Encourage the model to answer step-by-step."
   ]
  },
  {
   "cell_type": "code",
   "execution_count": 8,
   "id": "f4fb34c7",
   "metadata": {},
   "outputs": [
    {
     "name": "stdout",
     "output_type": "stream",
     "text": [
      "1. Speed = 50 mph\n",
      "2. Time = 3 hours\n",
      "3. Distance = Speed × Time = 50 × 3 = 150 miles\n",
      "Therefore, the car traveled 150 miles.\n",
      "\n"
     ]
    }
   ],
   "source": [
    "def cot_prompting(question):\n",
    "    prompt = f\"\"\"\n",
    "        Q: A train travels 60 miles per hour for 2 hours. How far did it go?\n",
    "        A: Let's think step-by-step.\n",
    "     \n",
    "        1. Speed = 60 mph\n",
    "        2. Time = 2 hours\n",
    "        3. Distance = Speed × Time = 60 × 2 = 120 miles\n",
    "    Therefore, the train traveled 120 miles.\n",
    "        \n",
    "        Q: {question}\n",
    "        A: Let's think step-by-step.\n",
    "    \"\"\"\n",
    "    response = call_llm([{\"role\": \"user\", \"content\": prompt}])\n",
    "    return response\n",
    "\n",
    "print(cot_prompting(\"A car travels 50 mph for 3 hours. How far did it go?\"))"
   ]
  },
  {
   "cell_type": "markdown",
   "id": "6127eed4",
   "metadata": {},
   "source": [
    "### 4. Instruction Prompting\n",
    "Direct the model explicitly with instructions.\n"
   ]
  },
  {
   "cell_type": "code",
   "execution_count": 9,
   "id": "3de696dd",
   "metadata": {},
   "outputs": [
    {
     "name": "stdout",
     "output_type": "stream",
     "text": [
      "LangChain is a tool that helps developers create applications powered by large language models (LLMs).\n",
      "\n"
     ]
    }
   ],
   "source": [
    "def instruction_prompting(task, data):\n",
    "    prompt = f\"Please {task}:\\n{data}\"\n",
    "    response = call_llm([{\"role\": \"user\", \"content\": prompt}])\n",
    "    return response\n",
    "\n",
    "print(instruction_prompting(\"summarize\", \"LangChain is an open-source framework for building LLM applications.\"))"
   ]
  },
  {
   "cell_type": "markdown",
   "id": "84cd9801",
   "metadata": {},
   "source": [
    "### 5. Direct Answer Prompting\n",
    "Ask the model to provide just the final answer, no explanations."
   ]
  },
  {
   "cell_type": "code",
   "execution_count": 10,
   "id": "8498def7",
   "metadata": {},
   "outputs": [
    {
     "name": "stdout",
     "output_type": "stream",
     "text": [
      "New Delhi\n"
     ]
    }
   ],
   "source": [
    "def direct_answer_prompting(question):\n",
    "    prompt = f\"Q: {question}\\nA:\"\n",
    "    response = call_llm([{\"role\": \"user\", \"content\": prompt}])\n",
    "    return response.strip()\n",
    "\n",
    "print(direct_answer_prompting(\"What is the capital of India?\"))"
   ]
  },
  {
   "cell_type": "markdown",
   "id": "20580400",
   "metadata": {},
   "source": [
    "### 6. Persona-based Prompting\n",
    "Assign a persona to the model to get responses in a specific voice or tone."
   ]
  },
  {
   "cell_type": "code",
   "execution_count": null,
   "id": "734b95ac",
   "metadata": {},
   "outputs": [
    {
     "name": "stdout",
     "output_type": "stream",
     "text": [
      "(In a calm, measured tone, punctuated with slight pauses for emphasis)\n",
      "\n",
      "भाईयों और बहनों,\n",
      "\n",
      "बात आइंस्टीन के सापेक्षता सिद्धांत की है। ये सिद्धांत थोड़ा जटिल है, लेकिन मैं इसे सरल भाषा में समझाने की कोशिश करूंगा।\n",
      "\n",
      "देखिए, ये सिद्धांत मूल रूप से समय और स्थान के बारे में हमारी समझ को बदल देता है। पहले हम मानते थे कि समय और स्थान स्थिर हैं, मतलब सबके लिए एक जैसे हैं।  सापेक्षता सिद्धांत कहता है कि ये दोनों सापेक्ष हैं।  \"सापेक्ष\" का मतलब है कि वे आपकी गति और गुरुत्वाकर्षण पर निर्भर करते हैं।\n",
      "\n",
      "इसके दो मुख्य हिस्से हैं:\n",
      "\n",
      "*   **विशेष सापेक्षता (Special Relativity):** ये बताता है कि जब आप स्थिर गति से चल रहे हों तो समय और स्थान कैसे बदलते हैं।  इस सिद्धांत के अनुसार प्रकाश की गति (light speed) ब्रह्मांड में सबसे तेज़ गति है और ये सबके लिए एक जैसी रहती है, चाहे आप कितनी भी तेज़ी से क्यों न चल रहे हों।  इसीलिए, अगर आप प्रकाश की गति के करीब यात्रा कर रहे हैं, तो आपके लिए समय धीरे चलेगा, और आपकी लंबाई छोटी हो जाएगी, बजाय उस व्यक्ति के जो स्थिर खड़ा है।\n",
      "\n",
      "*   **सामान्य सापेक्षता (General Relativity):** ये गुरुत्वाकर्षण के बारे में है।  आइंस्टीन ने दिखाया कि गुरुत्वाकर्षण कोई बल नहीं है, बल्कि समय और स्थान का मुड़ाव है जो बड़ी वस्तुओं के कारण होता है।  इसे ऐसे समझिये कि जैसे एक कंबल पर एक गेंद रखने से वो कंबल मुड़ जाता है, वैसे ही कोई भारी चीज़ अपने आस-पास के समय और स्थान को मोड़ देती है।  और इसी मुड़ाव के कारण बाकी चीज़ें उस बड़ी वस्तु की ओर खिंची चली आती हैं।\n",
      "\n",
      "ये सिद्धांत हमारी दुनिया को समझने में बहुत ज़रूरी है।  ये जीपीएस (GPS) तकनीक से लेकर ब्रह्मांड के बारे में हमारी समझ तक, हर चीज में काम आता है। ये दिखाता है कि विज्ञान हमेशा आगे बढ़ता रहता है, और हमें दुनिया को नए तरीके से देखने के लिए मजबूर करता है।\n",
      "\n",
      "जय हिन्द!\n",
      "\n"
     ]
    }
   ],
   "source": [
    "def persona_prompting(question):\n",
    "    prompt = f\"You are Albert Einstein. Answer the following in your own words:\\n{question}\"\n",
    "    response = call_llm([{\"role\": \"user\", \"content\": prompt}])\n",
    "    return response\n",
    "\n",
    "print(persona_prompting(\"What is the theory of relativity?\"))"
   ]
  },
  {
   "cell_type": "markdown",
   "id": "438a83e0",
   "metadata": {},
   "source": [
    "### 7. Role-Playing Prompting\n",
    "Put the model into a simulated role or situation."
   ]
  },
  {
   "cell_type": "code",
   "execution_count": null,
   "id": "e1b7db10",
   "metadata": {},
   "outputs": [
    {
     "name": "stdout",
     "output_type": "stream",
     "text": [
      "Okay, buckle up for an exciting 3-day Mumbai adventure! This itinerary is designed for a first-time visitor, balancing iconic landmarks with local experiences, delicious food, and a touch of Bollywood glamour.  I've tried to make it relatively manageable in terms of travel time within the city, but remember Mumbai traffic can be unpredictable, so factor in extra time!\n",
      "\n",
      "**Theme:** A Blend of History, Culture, Food, and Bollywood\n",
      "\n",
      "**Accommodation Suggestion:** Colaba or Fort area for easy access to many attractions and good hotel options across different price points. Bandra is another good option, though a bit further out.\n",
      "\n",
      "**Things to Note:**\n",
      "\n",
      "*   **Traffic:**  Mumbai traffic is notorious. Use ride-hailing apps like Ola or Uber for convenience. Local trains are an experience, but can be very crowded, especially during peak hours.\n",
      "*   **Clothing:**  Dress respectfully, particularly when visiting religious sites.  Light, breathable clothing is best, especially during the hotter months. Comfortable walking shoes are essential.\n",
      "*   **Money:** ATMs are widely available. Credit cards are accepted in most major establishments, but it's always good to have some cash on hand.\n",
      "*   **Safety:** Mumbai is generally a safe city, but be aware of your surroundings, especially in crowded areas.\n",
      "*   **Food:** Be adventurous with food but start with reputable restaurants or recommended street food stalls. Drink bottled water.\n",
      "*   **Bargaining:** Bargaining is expected in markets and with some vendors.\n",
      "\n",
      "**Here's the Itinerary:**\n",
      "\n",
      "**Day 1: Colonial Charm & Gateway to India**\n",
      "\n",
      "*   **Morning (9:00 AM - 1:00 PM):  Colonial Mumbai & Fort Area Exploration**\n",
      "\n",
      "    *   **Start:**  Begin at **Chhatrapati Shivaji Maharaj Terminus (CST)** (Victoria Terminus), a UNESCO World Heritage site. Admire the stunning Victorian Gothic architecture from outside and try to see the main hall.\n",
      "    *   **Walk:** Walk south through the Fort area, observing the architecture.\n",
      "    *   **Visit:** **Bombay High Court** (from outside), **University of Mumbai**, **Flora Fountain**, and **St. Thomas Cathedral.**\n",
      "    *   **Lunch (1:00 PM):** Grab lunch at **Britannia & Co.** (Parsi cuisine - try the Berry Pulao) or **Kyani & Co.** (Irani café - try bun maska and Irani chai) for a taste of old Mumbai.\n",
      "\n",
      "*   **Afternoon (2:30 PM - 6:00 PM): Gateway & Colaba**\n",
      "\n",
      "    *   **Visit:** **Gateway of India:**  Take photos of this iconic landmark overlooking the Arabian Sea. You can take a short ferry ride from here for a different perspective of the city.\n",
      "    *   **Explore:** **Colaba Causeway:**  A bustling street market filled with clothes, jewelry, souvenirs, and handicrafts.  Bargain for the best prices!\n",
      "    *   **Optional:** Visit the **Chhatrapati Shivaji Maharaj Vastu Sangrahalaya (Prince of Wales Museum):** A museum showcasing Indian history, art, and archaeology.\n",
      "\n",
      "*   **Evening (7:00 PM - onwards): Dinner & Relaxation**\n",
      "\n",
      "    *   **Dinner:**  **Leopold Cafe** (historic cafe) or **The Table** (contemporary fine dining).\n",
      "    *   **Relax:** Enjoy a walk along the Colaba promenade, soaking in the atmosphere. Consider a drink at a rooftop bar for city views.\n",
      "\n",
      "**Day 2: Culture, Bollywood, & Sea Views**\n",
      "\n",
      "*   **Morning (9:00 AM - 1:00 PM): Dhobi Ghat & Mani Bhavan**\n",
      "\n",
      "    *   **Visit:** **Dhobi Ghat:**  An open-air laundry where clothes are washed by hand. It's a fascinating (and photogenic) sight. (Best viewed from the flyover above)\n",
      "    *   **Visit:** **Mani Bhavan Gandhi Museum:**  A museum dedicated to Mahatma Gandhi. It was his Mumbai residence for many years.\n",
      "    *   **Optional:**  **Banganga Tank:** An ancient water tank surrounded by temples in Walkeshwar.\n",
      "\n",
      "*   **Afternoon (2:00 PM - 6:00 PM): Bollywood Experience**\n",
      "\n",
      "    *   **Option 1 (Budget):** **Bollywood Movie at Eros Cinema or Regal Cinema:** Experience a Bollywood movie in a classic theatre. Check for showtimes and subtitles.\n",
      "    *   **Option 2 (Splurge):** **Bollywood Studio Tour:** Several studios offer tours where you can see film sets, dance performances, and even meet some actors. Book in advance. (Some popular options are Film City, Whistling Woods, Esselworld).  Factor in travel time as they are often located outside the main city.\n",
      "\n",
      "*   **Evening (7:00 PM - onwards): Bandra Exploration & Dinner**\n",
      "\n",
      "    *   **Travel:** Take an Uber/Ola to Bandra (approx. 45 min - 1.5 hour depending on traffic).\n",
      "    *   **Explore:** Walk along **Bandstand Promenade** and admire the **Mannat**, Shahrukh Khan's house and **Galaxy Apartments** where Salman Khan lives.\n",
      "    *   **Dinner:** Bandra has a fantastic range of restaurants. Options include: **Candies** (casual), **Olive Bar & Kitchen** (Mediterranean), **Bastian** (Seafood).\n",
      "\n",
      "**Day 3: Temples, Beaches & Departure**\n",
      "\n",
      "*   **Morning (9:00 AM - 12:00 PM): Religious Sites & Marine Drive**\n",
      "\n",
      "    *   **Visit:** **Shree Siddhivinayak Temple:** A famous Hindu temple dedicated to Lord Ganesha. Be prepared for crowds.\n",
      "    *   **Visit:** **Haji Ali Dargah:** A mosque and tomb located on an islet off the coast.  Accessible by a walkway during low tide.\n",
      "\n",
      "*   **Afternoon (1:00 PM - 4:00 PM): Beaches & Sunset Views**\n",
      "\n",
      "    *   **Lunch:** Have lunch near Juhu Beach – lots of options for street food and casual restaurants.\n",
      "    *   **Visit:** **Juhu Beach:** A popular beach where you can try street food, relax, or take a walk.\n",
      "    *   **Optional:** Visit **ISKCON Temple, Juhu**: A beautiful temple dedicated to Lord Krishna.\n",
      "\n",
      "*   **Evening (4:00 PM - 6:00 PM): Marine Drive & Farewell**\n",
      "\n",
      "    *   **Visit:** **Marine Drive (Queen's Necklace):** Take a final walk or drive along Marine Drive, enjoying the views of the Arabian Sea. It's especially beautiful at sunset.\n",
      "    *   **Farewell Dinner (Optional):** Have a final Indian meal at a restaurant with a view.\n",
      "    *   **Departure:** Head to the airport or train station for your onward journey.\n",
      "\n",
      "**Alternative Suggestions/Customization:**\n",
      "\n",
      "*   **Elephanta Caves:** Take a ferry from the Gateway of India to Elephanta Island to explore ancient cave temples (requires half a day).\n",
      "*   **Chor Bazaar:** If you like antiques and vintage items, visit Chor Bazaar (Thieves Market), but be cautious and bargain hard.\n",
      "*   **Street Food Tour:** If you're a foodie, consider joining a guided street food tour to sample a variety of Mumbai's culinary delights safely.\n",
      "*   **National Park Visit:** If you want to escape the city bustle, visit Sanjay Gandhi National Park (located outside the main city) for hiking and nature.\n",
      "*   **Worli Sea Link:** Instead of taking the regular route through the city, take a ride on the Worli Sea Link. It’s an engineering marvel and gives great views.\n",
      "\n",
      "**This is just a suggested itinerary, feel free to customize it based on your interests and time.  Enjoy your trip to Mumbai!  Let me know if you have any specific interests (e.g., art, wildlife, nightlife) and I can refine the plan further.**\n",
      "\n"
     ]
    }
   ],
   "source": [
    "def role_playing_prompting(city):\n",
    "    prompt = f\"You are a travel agent. Recommend a 3-day plan in {city} for a first-time visitor.\"\n",
    "    response = call_llm([{\"role\": \"user\", \"content\": prompt}])\n",
    "    return response\n",
    "\n",
    "print(role_playing_prompting(\"Mumbai\"))"
   ]
  },
  {
   "cell_type": "markdown",
   "id": "8e7e6058",
   "metadata": {},
   "source": [
    "### 8. Contextual Prompting\n",
    "Inject external knowledge or previous conversation context."
   ]
  },
  {
   "cell_type": "code",
   "execution_count": 23,
   "id": "b70c37f2",
   "metadata": {},
   "outputs": [
    {
     "name": "stdout",
     "output_type": "stream",
     "text": [
      "Plants make their own food through photosynthesis.\n",
      "\n"
     ]
    }
   ],
   "source": [
    "def contextual_prompting(question, context):\n",
    "    prompt = f\"Context:\\n{context}\\n\\nQuestion: {question}\\nAnswer:\"\n",
    "    response = call_llm([{\"role\": \"user\", \"content\": prompt}])\n",
    "    return response\n",
    "\n",
    "context = \"Photosynthesis is a process used by plants to convert light into energy.\"\n",
    "print(contextual_prompting(\"How do plants make their own food?\", context))"
   ]
  }
 ],
 "metadata": {
  "kernelspec": {
   "display_name": ".venv",
   "language": "python",
   "name": "python3"
  },
  "language_info": {
   "codemirror_mode": {
    "name": "ipython",
    "version": 3
   },
   "file_extension": ".py",
   "mimetype": "text/x-python",
   "name": "python",
   "nbconvert_exporter": "python",
   "pygments_lexer": "ipython3",
   "version": "3.13.5"
  }
 },
 "nbformat": 4,
 "nbformat_minor": 5
}
